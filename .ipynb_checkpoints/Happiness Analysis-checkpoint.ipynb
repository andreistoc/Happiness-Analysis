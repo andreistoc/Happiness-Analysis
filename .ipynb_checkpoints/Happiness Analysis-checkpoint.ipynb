{
 "cells": [
  {
   "cell_type": "markdown",
   "metadata": {},
   "source": [
    "# Task Details\n",
    "\n",
    "The attached data-set shows the happiest countries on earth. You may join any data you want to explain why countries are ranked as they are here.\n",
    "\n",
    "The goal of this task is to find out what factors contribute to happiness. You can join any other data and use any insights you might have that show a strong correlation between the factors you come up with.  \n",
    "\n",
    "Expected Submission We want the final code to be submitted on Github and a demo of it in the final interview.  \n",
    "\n",
    "Please use comments to explicit the code.  The solution should contain the correlation between the factors discovered and the happiness score of the data-set (the actual number).  Any charts explaining this correlation will also help.  Evaluation The best solutions will both have a good correlation score, but are also creative and explain the work well.\n"
   ]
  },
  {
   "cell_type": "code",
   "execution_count": 4,
   "metadata": {},
   "outputs": [],
   "source": [
    "# import libraries\n",
    "import pandas as pd\n",
    "import matplotlib.pyplot as plt\n",
    "import seaborn as sns\n",
    "import numpy as np\n",
    "import glob\n",
    "from scipy.stats import norm\n",
    "from sklearn.preprocessing import StandardScaler\n",
    "from scipy import stats\n",
    "\n",
    "\n",
    "%matplotlib inline"
   ]
  },
  {
   "cell_type": "markdown",
   "metadata": {},
   "source": [
    "## Load a sample dataset"
   ]
  },
  {
   "cell_type": "code",
   "execution_count": 6,
   "metadata": {},
   "outputs": [],
   "source": [
    "partial_dataset = pd.read_csv('./data/2015.csv')"
   ]
  },
  {
   "cell_type": "code",
   "execution_count": 7,
   "metadata": {},
   "outputs": [
    {
     "data": {
      "text/plain": [
       "Index(['Country', 'Region', 'Happiness Rank', 'Happiness Score',\n",
       "       'Standard Error', 'Economy (GDP per Capita)', 'Family',\n",
       "       'Health (Life Expectancy)', 'Freedom', 'Trust (Government Corruption)',\n",
       "       'Generosity', 'Dystopia Residual'],\n",
       "      dtype='object')"
      ]
     },
     "execution_count": 7,
     "metadata": {},
     "output_type": "execute_result"
    }
   ],
   "source": [
    "# view dataset columns\n",
    "partial_dataset.columns"
   ]
  },
  {
   "cell_type": "markdown",
   "metadata": {},
   "source": [
    "Trying to understand the format of the data:\n",
    "\n",
    "\n",
    "* Country - The name of the country that is studied\n",
    "* Region - Location\n",
    "* Happiness Rank - How high is this country ranked?\n",
    "* Happiness Score - I'll take this as an axiomatic measurement of happiness\n",
    "* Standard Error - Measure of the width of the sampling distribution (will assume that it's for the happiness score)\n",
    "* Economy (GDP per capita) - how much each citizen contributes to the economy on average\n",
    "* Health (Life Expectancy)\n",
    "* Freedom - this raises some red flags as it would seem hard to measure\n",
    "* Trust - government corruption. Same as freedom, but I can see it being easier to quantify\n",
    "* Generosity - same issue as the two above, but of all of them this can easiliy be quantified economically.\n",
    "* Dystopia residual: I found the explanation below in the official world happiness report\n",
    "\n",
    "### What is Dystopia?\n",
    "Dystopia is an imaginary country that has the world’s least-happy people. The purpose in establishing Dystopia is to have a benchmark against which all countries can be favorably compared (no country performs more poorly than Dystopia) in terms of each of the six key variables, thus allowing each sub-bar to be of positive (or zero, in six instances) width. The lowest scores observed for the six key variables, therefore, characterize Dystopia. Since life would be very unpleasant in a country with the world’s lowest incomes, lowest life expectancy, lowest generosity, most corruption, least freedom, and least social support, it is referred to as “Dystopia,” in contrast to Utopia.\n",
    "\n",
    "### What are the residuals?\n",
    "The residuals, or unexplained components, differ for each country, reflecting the extent to which the six variables either over- or under-explain average 2017-2019 life evaluations. These residuals have an average value of approximately zero over the whole set of countries. Figure 2.1 shows the average residual for each country if the equation in Table 2.1 is applied to average 2017- 2019 data for the six variables in that country. We combine these residuals with the estimate for life evaluations in Dystopia so that the combined bar will always have positive values. As can be seen in Figure 2.1, although some life evaluation residuals are quite large, occasionally exceeding one point on the scale from 0 to 10, they are always much smaller than the calculated value in Dystopia, where the average life is rated at 1.97 on the 0 to 10 scale. Table 7 of the online Statistical Appendix 1 for Chapter 2 puts the Dystopia plus residual block at the left side, and also draws the Dystopia line, making it easy to compare the signs and sizes of the residuals in different countries.\n",
    "\n",
    "\n"
   ]
  },
  {
   "cell_type": "markdown",
   "metadata": {},
   "source": [
    "# Load the entire dataset"
   ]
  },
  {
   "cell_type": "code",
   "execution_count": null,
   "metadata": {},
   "outputs": [],
   "source": [
    "path = './data'\n",
    "all_files = glob.glob(path + '/*.csv')\n",
    "\n",
    "li = []\n",
    "\n",
    "for filename in all_files:\n",
    "    df = pd.read_csv(filename, index_col=None, header=0)\n",
    "    li.append(df)"
   ]
  }
 ],
 "metadata": {
  "kernelspec": {
   "display_name": "Python 3",
   "language": "python",
   "name": "python3"
  },
  "language_info": {
   "codemirror_mode": {
    "name": "ipython",
    "version": 3
   },
   "file_extension": ".py",
   "mimetype": "text/x-python",
   "name": "python",
   "nbconvert_exporter": "python",
   "pygments_lexer": "ipython3",
   "version": "3.7.8"
  }
 },
 "nbformat": 4,
 "nbformat_minor": 4
}
